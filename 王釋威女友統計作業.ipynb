{
 "cells": [
  {
   "cell_type": "markdown",
   "metadata": {},
   "source": [
    "喬喬相信識字量多寡會影響國小低年級學童的閱讀理解表現，他認為識字教學方式會  \n",
    "影響學習成效，而且性別可能也是影響學習的因素之一。為了檢驗他的想法，他找了  \n",
    "一群自願參與閱讀學習的國小三年級學生來進行實驗(假設其他變項都已受到良好的控  \n",
    "制，不影響實驗結果)。 "
   ]
  },
  {
   "cell_type": "markdown",
   "metadata": {},
   "source": [
    "喬喬將學生分成下列幾個組別，分別進行教學實驗。 \n",
    "1. 識字教學組：分別用「書空」、「抄寫」兩種方式教學。\n",
    "2. 大量閱讀組：在課堂中讓學生大量閱讀不同文章。\n",
    "\n",
    "以下是他在教學後進行後測得到閱讀理解表現的結果：\n"
   ]
  },
  {
   "cell_type": "markdown",
   "metadata": {},
   "source": [
    "$$\n",
    "\\begin{array}{|c|c|c|c|c|c|}\n",
    "\\hline \\begin{array}{c}\n",
    "\\text { 書空組 } \\\\\n",
    "\\text { 成績 }\n",
    "\\end{array} & \\begin{array}{c}\n",
    "\\text { 書空組 } \\\\\n",
    "\\text { 性別 }\n",
    "\\end{array} & \\begin{array}{c}\n",
    "\\text { 抄寫組 } \\\\\n",
    "\\text { 成績 }\n",
    "\\end{array} & \\begin{array}{c}\n",
    "\\text { 抄寫組 } \\\\\n",
    "\\text { 性別 }\n",
    "\\end{array} & \\begin{array}{c}\n",
    "\\text { 閱讀組 } \\\\\n",
    "\\text { 成績 }\n",
    "\\end{array} & \\begin{array}{l}\n",
    "\\text { 閱讀組 } \\\\\n",
    "\\text { 性別 }\n",
    "\\end{array} \\\\\n",
    "\\hline 18 & 1 & 14 & 1 & 10 & 2 \\\\\n",
    "\\hline 14 & 1 & 12 & 2 & 6 & 2 \\\\\n",
    "\\hline 17 & 1 & 15 & 1 & 14 & 2 \\\\\n",
    "\\hline 16 & 1 & 18 & 2 & 13 & 2 \\\\\n",
    "\\hline 20 & 1 & 17 & 1 & 12 & 2 \\\\\n",
    "\\hline 13 & 1 & 12 & 2 & 12 & 2 \\\\\n",
    "\\hline 15 & 1 & 13 & 1 & 13 & 2 \\\\\n",
    "\\hline 20 & 1 & 17 & 2 & 15 & 2 \\\\\n",
    "\\hline 17 & 1 & 16 & 1 & 16 & 1 \\\\\n",
    "\\hline 18 & 2 & 17 & 2 & 14 & 1 \\\\\n",
    "\\hline 15 & 2 & 11 & 1 & 19 & 1 \\\\\n",
    "\\hline 18 & 2 & 16 & 2 & 12 & 1 \\\\\n",
    "\\hline 17 & 2 & 18 & 1 & 11 & 1 \\\\\n",
    "\\hline 19 & 2 & 19 & 2 & 8 & 2 \\\\\n",
    "\\hline 18 & 2 & 11 & 1 & 7 & 2 \\\\\n",
    "\\hline\n",
    "\\end{array}\n",
    "$$  \n",
    "\n",
    "* 性別1為男生，2為女生"
   ]
  },
  {
   "cell_type": "markdown",
   "metadata": {},
   "source": [
    "**首先我要聲明的一點是，題目提及喬喬認為\"識字教學方式\"會影響學習成效，但之後又把學生分群為\"識字教學組\"與\"大量閱讀組\"，  \n",
    "因此我不知道題目的中的\"大量閱讀\"算不算喬喬所認為的\"識字教學方式\"，但幸運的是作法是大同小異的，只差別於教學方式的自變量有幾種類別(兩種或三種)，  \n",
    "我這邊把大量閱讀視為識字教學方式的一種，用三種類別示範。**  \n",
    "\n",
    "**<font color = red>你可以請你女朋友在提交前向出題者詢問確切題意**\n",
    "\n",
    "**<font color = blue>寫完以後發現三種類別做起來才有意義，所以我的示範就是正確答案，不用再向出題者詢問確切題意**"
   ]
  },
  {
   "cell_type": "markdown",
   "metadata": {},
   "source": [
    "**1. 請問此一研究之自變項和依變項為何？說明喬喬的實驗設計為何？**\n",
    "\n",
    "- 此研究有兩個自變量，分別為  \n",
    "性別:  \n",
    "類別變量，男、女。  \n",
    "教學方式:  \n",
    "類別變量，書空、抄寫、大量閱讀。  \n",
    "\n",
    "- 依變量為學習成效  \n",
    "\n",
    "- 實驗設計部分，我們可以應用雙因子變異數分析，以下為簡介:  \n",
    "a. 使用時機:用於比較在二不同因子對樣本平均值 (mean)有無影響及二因子有無交互作用。  \n",
    "b. 分析類型:母數(parametric)分析。直接使用資料數值算統計叫parametric方法，把資料排序之後用排序的名次算統計叫non-parametric方法。  \n",
    "c. 前提假設:使用母數(parametric)分析時，資料須為常態分布(normal distribution)。使用ANOVA多組資料須相同變異數。"
   ]
  },
  {
   "cell_type": "markdown",
   "metadata": {},
   "source": [
    "**2. 請依喬喬的研究，寫下研究假設。**\n",
    "(提示：每個主要效果和交互作用效果都應該有假設)\n",
    "\n",
    "- 應用雙因子變異數分析的資料有二影響因子，就是有兩個自變項。此檢定有三組$H_0$和$H_A$。  \n",
    "$H_0$: $\\mu_{1-1}$ = $\\mu_{1-2}$ = … = $\\mu_{1-m}$，$H_A$: 至少有一組平均值不同。  \n",
    "$H_0$: $\\mu_{2-1}$ = $\\mu_{2-2}$ = … = $\\mu_{2-n}$，$H_A$: 至少有一組平均值不同。  \n",
    "$H_0$: 因子1與因子2互不影響，$H_A$: 因子1與因子2互相影響。  \n",
    "\n",
    "- 在本研究中三組研究假設為:  \n",
    "a. $H_0$性別對學習成效沒有影響，$H_0$性別對學習成效有影響。  \n",
    "b. $H_0$教學方式對學習成效沒有影響，$H_0$教學方式對學習成效有影響。  \n",
    "c. $H_0$性別與教學方式兩因子互不影響，$H_0$性別與教學方式兩因子互相影響。"
   ]
  },
  {
   "cell_type": "markdown",
   "metadata": {},
   "source": [
    "**3. 依此研究結果採取適當的統計方法進行分析，並寫出結論。**  \n",
    "a. 請以統計軟體進行分析，結果要分別呈現主要效果、交互作用效果之結果、單純  \n",
    "    主要效果、事後比較、各個效果量，上述結果可以直接貼出統計報表呈現。  \n",
    "    **<font color = red>人生苦短，我用python**"
   ]
  },
  {
   "cell_type": "code",
   "execution_count": 1,
   "metadata": {},
   "outputs": [],
   "source": [
    "import pandas as pd\n",
    "import seaborn as sns\n",
    "from matplotlib.font_manager import FontProperties\n",
    "myfont=FontProperties(fname=r'C:\\Users\\chiehlinchen\\Desktop\\msj.ttf',size=14)\n",
    "sns.set(font=myfont.get_family(), rc={'figure.figsize':(5,4)}, font_scale= 2)\n",
    "sns.set_style(\"whitegrid\",{\"font.sans-serif\":['Microsoft JhengHei']})\n",
    "\n",
    "sns.set_context({'figure.figsize':[20, 10]})\n",
    "\n",
    "import scipy.stats\n"
   ]
  },
  {
   "cell_type": "code",
   "execution_count": 2,
   "metadata": {},
   "outputs": [],
   "source": [
    "grade = [18,14,17,16,20,13,15,20,17,18,15,18,17,19,18,14,12,15,18,17,12,13,17,16,17,11,16,18,19,11,10,6,14,13,12,12,13,15,16,14,19,12,11,8,7]\n",
    "learn_type = [\"書空\",\"書空\",\"書空\",\"書空\",\"書空\",\"書空\",\"書空\",\"書空\",\"書空\",\"書空\",\"書空\",\"書空\",\"書空\",\"書空\",\"書空\",\"抄寫\",\"抄寫\",\"抄寫\",\"抄寫\",\"抄寫\",\"抄寫\",\"抄寫\",\"抄寫\",\"抄寫\",\"抄寫\",\n",
    "                \"抄寫\",\"抄寫\",\"抄寫\",\"抄寫\",\"抄寫\",\"閱讀\",\"閱讀\",\"閱讀\",\"閱讀\",\"閱讀\",\"閱讀\",\"閱讀\",\"閱讀\",\"閱讀\",\"閱讀\",\"閱讀\",\"閱讀\",\"閱讀\",\"閱讀\",\"閱讀\"]\n",
    "sex = [\"男\",\"男\",\"男\",\"男\",\"男\",\"男\",\"男\",\"男\",\"男\",\"女\",\"女\",\"女\",\"女\",\"女\",\"女\",\"男\",\"女\",\"男\",\"女\",\"男\",\"女\",\"男\",\"女\",\"男\",\"女\",\"男\",\"女\",\"男\",\"女\",\"男\",\"女\",\"女\",\"女\",\"女\",\"女\",\"女\",\n",
    "        \"女\",\"女\",\"男\",\"男\",\"男\",\"男\",\"男\",\"女\",\"女\"]\n",
    "data = {'學習成效':grade,'教學方式':learn_type, '性別':sex}\n",
    "df = pd.DataFrame(data)"
   ]
  },
  {
   "cell_type": "markdown",
   "metadata": {},
   "source": [
    "**查看資料分布**"
   ]
  },
  {
   "cell_type": "code",
   "execution_count": 3,
   "metadata": {},
   "outputs": [
    {
     "data": {
      "image/png": "[encoded data removed]",
      "text/plain": [
       "<Figure size 432x288 with 1 Axes>"
      ]
     },
     "metadata": {
      "needs_background": "light"
     },
     "output_type": "display_data"
    }
   ],
   "source": [
    "ax = sns.boxplot(x = \"教學方式\", y = \"學習成效\", hue=\"性別\", data = df, palette = \"Set3\")\n"
   ]
  },
  {
   "cell_type": "markdown",
   "metadata": {},
   "source": [
    "---"
   ]
  },
  {
   "cell_type": "markdown",
   "metadata": {},
   "source": [
    "**檢查資料是否為常態分布 ($H_0$:資料為常態分佈)**"
   ]
  },
  {
   "cell_type": "code",
   "execution_count": 4,
   "metadata": {},
   "outputs": [
    {
     "data": {
      "text/plain": [
       "ShapiroResult(statistic=0.950893759727478, pvalue=0.699880063533783)"
      ]
     },
     "execution_count": 4,
     "metadata": {},
     "output_type": "execute_result"
    }
   ],
   "source": [
    "scipy.stats.shapiro(df[(df['教學方式'] == '書空') & (df['性別'] == '男')]['學習成效'])"
   ]
  },
  {
   "cell_type": "markdown",
   "metadata": {},
   "source": [
    "ShapiroResult(statistic=0.950893759727478, pvalue=0.699880063533783)  \n",
    "\n",
    "$p$ = 0.699 > 0.05，接受$H_0$:資料為常態分佈。"
   ]
  },
  {
   "cell_type": "code",
   "execution_count": 5,
   "metadata": {},
   "outputs": [
    {
     "data": {
      "text/plain": [
       "ShapiroResult(statistic=0.958021342754364, pvalue=0.7941423058509827)"
      ]
     },
     "execution_count": 5,
     "metadata": {},
     "output_type": "execute_result"
    }
   ],
   "source": [
    "scipy.stats.shapiro(df[(df['教學方式'] == '閱讀') & (df['性別'] == '男')]['學習成效'])"
   ]
  },
  {
   "cell_type": "markdown",
   "metadata": {},
   "source": [
    "ShapiroResult(statistic=0.958021342754364, pvalue=0.7941423058509827)  \n",
    "\n",
    "$p$ = 0.794 > 0.05，接受$H_0$:資料為常態分佈。"
   ]
  },
  {
   "cell_type": "code",
   "execution_count": 6,
   "metadata": {},
   "outputs": [
    {
     "data": {
      "text/plain": [
       "ShapiroResult(statistic=0.9418691396713257, pvalue=0.6295598745346069)"
      ]
     },
     "execution_count": 6,
     "metadata": {},
     "output_type": "execute_result"
    }
   ],
   "source": [
    "scipy.stats.shapiro(df[(df['教學方式'] == '抄寫') & (df['性別'] == '男')]['學習成效'])"
   ]
  },
  {
   "cell_type": "markdown",
   "metadata": {},
   "source": [
    "ShapiroResult(statistic=0.9418691396713257, pvalue=0.6295598745346069)  \n",
    "\n",
    "$p$ = 0.629 > 0.05，接受$H_0$:資料為常態分佈。"
   ]
  },
  {
   "cell_type": "code",
   "execution_count": 7,
   "metadata": {},
   "outputs": [
    {
     "data": {
      "text/plain": [
       "ShapiroResult(statistic=0.8565592169761658, pvalue=0.17767059803009033)"
      ]
     },
     "execution_count": 7,
     "metadata": {},
     "output_type": "execute_result"
    }
   ],
   "source": [
    "scipy.stats.shapiro(df[(df['教學方式'] == '書空') & (df['性別'] == '女')]['學習成效'])"
   ]
  },
  {
   "cell_type": "markdown",
   "metadata": {},
   "source": [
    "ShapiroResult(statistic=0.8565592169761658, pvalue=0.17767059803009033)  \n",
    "\n",
    "$p$ = 0.177 > 0.05，接受$H_0$:資料為常態分佈。"
   ]
  },
  {
   "cell_type": "code",
   "execution_count": 8,
   "metadata": {},
   "outputs": [
    {
     "data": {
      "text/plain": [
       "ShapiroResult(statistic=0.9223592877388, pvalue=0.377053439617157)"
      ]
     },
     "execution_count": 8,
     "metadata": {},
     "output_type": "execute_result"
    }
   ],
   "source": [
    "scipy.stats.shapiro(df[(df['教學方式'] == '閱讀') & (df['性別'] == '女')]['學習成效'])"
   ]
  },
  {
   "cell_type": "markdown",
   "metadata": {},
   "source": [
    "ShapiroResult(statistic=0.9223592877388, pvalue=0.377053439617157)  \n",
    "\n",
    "$p$ = 0.377 > 0.05，接受$H_0$:資料為常態分佈。"
   ]
  },
  {
   "cell_type": "code",
   "execution_count": 9,
   "metadata": {},
   "outputs": [
    {
     "data": {
      "text/plain": [
       "ShapiroResult(statistic=0.8526988625526428, pvalue=0.13006995618343353)"
      ]
     },
     "execution_count": 9,
     "metadata": {},
     "output_type": "execute_result"
    }
   ],
   "source": [
    "scipy.stats.shapiro(df[(df['教學方式'] == '抄寫') & (df['性別'] == '女')]['學習成效'])"
   ]
  },
  {
   "cell_type": "markdown",
   "metadata": {},
   "source": [
    "ShapiroResult(statistic=0.8526988625526428, pvalue=0.13006995618343353)  \n",
    "\n",
    "$p$ = 0.13 > 0.05，接受$H_0$:資料為常態分佈。"
   ]
  },
  {
   "cell_type": "markdown",
   "metadata": {},
   "source": [
    "檢查資料是否為相同變異數 ($H_0$: $\\sigma_{1}^{2}$ = $\\sigma_{2}^{2}$ = $\\sigma_{3}^{2}$  = $\\sigma_{4}^{2}$ = $\\sigma_{5}^{2}$ = $\\sigma_{6}^{2}$):  \n",
    "方法: Levene test for equal variances (parametric test)"
   ]
  },
  {
   "cell_type": "code",
   "execution_count": 10,
   "metadata": {},
   "outputs": [
    {
     "data": {
      "text/plain": [
       "LeveneResult(statistic=1.1806828550830917, pvalue=0.3361954128126397)"
      ]
     },
     "execution_count": 10,
     "metadata": {},
     "output_type": "execute_result"
    }
   ],
   "source": [
    "scipy.stats.levene(df[(df['教學方式'] == '書空') & (df['性別'] == '男')]['學習成效'],df[(df['教學方式'] == '閱讀') & (df['性別'] == '男')]['學習成效'],df[(df['教學方式'] == '抄寫') & (df['性別'] == '男')]['學習成效'],df[(df['教學方式'] == '書空') & (df['性別'] == '女')]['學習成效'],df[(df['教學方式'] == '閱讀') & (df['性別'] == '女')]['學習成效'],df[(df['教學方式'] == '抄寫') & (df['性別'] == '女')]['學習成效'],  center = 'mean')"
   ]
  },
  {
   "cell_type": "markdown",
   "metadata": {},
   "source": [
    "LeveneResult(statistic=1.1806828550830917, pvalue=0.3361954128126397)  \n",
    "$p$ = 0.336 > 0.05，接受$H_0$: $\\sigma_{1}^{2}$ = $\\sigma_{2}^{2}$ = $\\sigma_{3}^{2}$  = $\\sigma_{4}^{2}$ = $\\sigma_{5}^{2}$ = $\\sigma_{6}^{2}$。  \n",
    "相同變異數表示樣本來自相同母體(population)，不同變異數表示樣本取樣自不同母體。"
   ]
  },
  {
   "cell_type": "markdown",
   "metadata": {},
   "source": [
    "---"
   ]
  },
  {
   "cell_type": "markdown",
   "metadata": {},
   "source": [
    "**雙因子變異數分析**"
   ]
  },
  {
   "cell_type": "code",
   "execution_count": 11,
   "metadata": {},
   "outputs": [
    {
     "data": {
      "text/html": [
       "<div>\n",
       "<style scoped>\n",
       "    .dataframe tbody tr th:only-of-type {\n",
       "        vertical-align: middle;\n",
       "    }\n",
       "\n",
       "    .dataframe tbody tr th {\n",
       "        vertical-align: top;\n",
       "    }\n",
       "\n",
       "    .dataframe thead th {\n",
       "        text-align: right;\n",
       "    }\n",
       "</style>\n",
       "<table border=\"1\" class=\"dataframe\">\n",
       "  <thead>\n",
       "    <tr style=\"text-align: right;\">\n",
       "      <th></th>\n",
       "      <th>sum_sq</th>\n",
       "      <th>df</th>\n",
       "      <th>F</th>\n",
       "      <th>PR(&gt;F)</th>\n",
       "    </tr>\n",
       "  </thead>\n",
       "  <tbody>\n",
       "    <tr>\n",
       "      <th>教學方式</th>\n",
       "      <td>166.145408</td>\n",
       "      <td>2.0</td>\n",
       "      <td>11.594355</td>\n",
       "      <td>0.000112</td>\n",
       "    </tr>\n",
       "    <tr>\n",
       "      <th>性別</th>\n",
       "      <td>0.735000</td>\n",
       "      <td>1.0</td>\n",
       "      <td>0.102583</td>\n",
       "      <td>0.750461</td>\n",
       "    </tr>\n",
       "    <tr>\n",
       "      <th>教學方式:性別</th>\n",
       "      <td>48.499524</td>\n",
       "      <td>2.0</td>\n",
       "      <td>3.384509</td>\n",
       "      <td>0.044118</td>\n",
       "    </tr>\n",
       "    <tr>\n",
       "      <th>Residual</th>\n",
       "      <td>279.432143</td>\n",
       "      <td>39.0</td>\n",
       "      <td>NaN</td>\n",
       "      <td>NaN</td>\n",
       "    </tr>\n",
       "  </tbody>\n",
       "</table>\n",
       "</div>"
      ],
      "text/plain": [
       "              sum_sq    df          F    PR(>F)\n",
       "教學方式      166.145408   2.0  11.594355  0.000112\n",
       "性別          0.735000   1.0   0.102583  0.750461\n",
       "教學方式:性別    48.499524   2.0   3.384509  0.044118\n",
       "Residual  279.432143  39.0        NaN       NaN"
      ]
     },
     "execution_count": 11,
     "metadata": {},
     "output_type": "execute_result"
    }
   ],
   "source": [
    "import statsmodels.api as sm\n",
    "from statsmodels.formula.api import ols\n",
    "mod = ols('學習成效 ~ 教學方式*性別', data = df).fit()\n",
    "sm.stats.anova_lm(mod, typ = 2)"
   ]
  },
  {
   "cell_type": "markdown",
   "metadata": {},
   "source": [
    "**<font color = red>首先我們從上表結果可以看出，學習成果主要受到教學方式($p$ = 0.0001 <0.05)和教學方式與性別的交互作用所影響($p$ = 0.04 <0.05)**"
   ]
  },
  {
   "cell_type": "markdown",
   "metadata": {},
   "source": [
    "**主要效果**"
   ]
  },
  {
   "cell_type": "markdown",
   "metadata": {},
   "source": [
    "比較性別因子的邊緣平均數，查看其中男性與女性哪個組別得分較高"
   ]
  },
  {
   "cell_type": "code",
   "execution_count": 13,
   "metadata": {},
   "outputs": [
    {
     "data": {
      "text/html": [
       "<div>\n",
       "<style scoped>\n",
       "    .dataframe tbody tr th:only-of-type {\n",
       "        vertical-align: middle;\n",
       "    }\n",
       "\n",
       "    .dataframe tbody tr th {\n",
       "        vertical-align: top;\n",
       "    }\n",
       "\n",
       "    .dataframe thead th {\n",
       "        text-align: right;\n",
       "    }\n",
       "</style>\n",
       "<table border=\"1\" class=\"dataframe\">\n",
       "  <thead>\n",
       "    <tr style=\"text-align: right;\">\n",
       "      <th></th>\n",
       "      <th>男</th>\n",
       "      <th>女</th>\n",
       "    </tr>\n",
       "  </thead>\n",
       "  <tbody>\n",
       "    <tr>\n",
       "      <th>學習成效</th>\n",
       "      <td>15.3</td>\n",
       "      <td>14.2</td>\n",
       "    </tr>\n",
       "  </tbody>\n",
       "</table>\n",
       "</div>"
      ],
      "text/plain": [
       "         男     女\n",
       "學習成效  15.3  14.2"
      ]
     },
     "execution_count": 13,
     "metadata": {},
     "output_type": "execute_result"
    }
   ],
   "source": [
    "pd.DataFrame({'男':df[df['性別'] == '男']['學習成效'].mean().round(1),'女':df[df['性別'] == '女']['學習成效'].mean().round(1)},index = ['學習成效'])\n"
   ]
  },
  {
   "cell_type": "markdown",
   "metadata": {},
   "source": [
    "比較教學方式因子的邊緣平均數，查看其中哪個組別得分較高"
   ]
  },
  {
   "cell_type": "code",
   "execution_count": 14,
   "metadata": {},
   "outputs": [
    {
     "data": {
      "text/html": [
       "<div>\n",
       "<style scoped>\n",
       "    .dataframe tbody tr th:only-of-type {\n",
       "        vertical-align: middle;\n",
       "    }\n",
       "\n",
       "    .dataframe tbody tr th {\n",
       "        vertical-align: top;\n",
       "    }\n",
       "\n",
       "    .dataframe thead th {\n",
       "        text-align: right;\n",
       "    }\n",
       "</style>\n",
       "<table border=\"1\" class=\"dataframe\">\n",
       "  <thead>\n",
       "    <tr style=\"text-align: right;\">\n",
       "      <th></th>\n",
       "      <th>書空</th>\n",
       "      <th>閱讀</th>\n",
       "      <th>抄寫</th>\n",
       "    </tr>\n",
       "  </thead>\n",
       "  <tbody>\n",
       "    <tr>\n",
       "      <th>學習成效</th>\n",
       "      <td>17.0</td>\n",
       "      <td>12.1</td>\n",
       "      <td>15.1</td>\n",
       "    </tr>\n",
       "  </tbody>\n",
       "</table>\n",
       "</div>"
      ],
      "text/plain": [
       "        書空    閱讀    抄寫\n",
       "學習成效  17.0  12.1  15.1"
      ]
     },
     "execution_count": 14,
     "metadata": {},
     "output_type": "execute_result"
    }
   ],
   "source": [
    "pd.DataFrame({'書空':df[df['教學方式'] == '書空']['學習成效'].mean().round(1),'閱讀':df[df['教學方式'] == '閱讀']['學習成效'].mean().round(1),'抄寫':df[df['教學方式'] == '抄寫']['學習成效'].mean().round(1)},index = ['學習成效'])\n"
   ]
  },
  {
   "cell_type": "markdown",
   "metadata": {},
   "source": [
    "**<font color = red>因兩因子的交互作用顯著，我們執行單純主要效果的檢定**"
   ]
  },
  {
   "cell_type": "markdown",
   "metadata": {},
   "source": [
    "**單純主要效果**"
   ]
  },
  {
   "cell_type": "markdown",
   "metadata": {},
   "source": [
    "性別因子的單純主要效果檢定"
   ]
  },
  {
   "cell_type": "markdown",
   "metadata": {},
   "source": [
    "當限定於教學方式因子=\"書空\"水準時"
   ]
  },
  {
   "cell_type": "code",
   "execution_count": 15,
   "metadata": {},
   "outputs": [
    {
     "data": {
      "text/plain": [
       "Ttest_indResult(statistic=-0.7518094115561113, pvalue=0.4655599987536534)"
      ]
     },
     "execution_count": 15,
     "metadata": {},
     "output_type": "execute_result"
    }
   ],
   "source": [
    "import scipy.stats as stats\n",
    "stats.ttest_ind(a= df[(df['教學方式'] == '書空') & (df['性別'] == '男')]['學習成效'],b= df[(df['教學方式'] == '書空') & (df['性別'] == '女')]['學習成效'])"
   ]
  },
  {
   "cell_type": "markdown",
   "metadata": {},
   "source": [
    "當限定於教學方式因子=\"抄寫\"水準時"
   ]
  },
  {
   "cell_type": "code",
   "execution_count": 16,
   "metadata": {},
   "outputs": [
    {
     "data": {
      "text/plain": [
       "Ttest_indResult(statistic=-1.0608682328532717, pvalue=0.3080621294835779)"
      ]
     },
     "execution_count": 16,
     "metadata": {},
     "output_type": "execute_result"
    }
   ],
   "source": [
    "import scipy.stats as stats\n",
    "stats.ttest_ind(a= df[(df['教學方式'] == '抄寫') & (df['性別'] == '男')]['學習成效'],b= df[(df['教學方式'] == '抄寫') & (df['性別'] == '女')]['學習成效'])"
   ]
  },
  {
   "cell_type": "markdown",
   "metadata": {},
   "source": [
    "當限定於教學方式因子=\"閱讀\"水準時"
   ]
  },
  {
   "cell_type": "code",
   "execution_count": 17,
   "metadata": {},
   "outputs": [
    {
     "data": {
      "text/plain": [
       "Ttest_indResult(statistic=1.9844785552553454, pvalue=0.06872203449982908)"
      ]
     },
     "execution_count": 17,
     "metadata": {},
     "output_type": "execute_result"
    }
   ],
   "source": [
    "import scipy.stats as stats\n",
    "stats.ttest_ind(a= df[(df['教學方式'] == '閱讀') & (df['性別'] == '男')]['學習成效'],b= df[(df['教學方式'] == '閱讀') & (df['性別'] == '女')]['學習成效'])"
   ]
  },
  {
   "cell_type": "markdown",
   "metadata": {},
   "source": [
    "教學方式因子的單純主要效果檢定"
   ]
  },
  {
   "cell_type": "markdown",
   "metadata": {},
   "source": [
    "當限定於性別因子=\"男\"水準時"
   ]
  },
  {
   "cell_type": "code",
   "execution_count": 18,
   "metadata": {},
   "outputs": [
    {
     "data": {
      "text/plain": [
       "F_onewayResult(statistic=1.9195944489579357, pvalue=0.17405751644913053)"
      ]
     },
     "execution_count": 18,
     "metadata": {},
     "output_type": "execute_result"
    }
   ],
   "source": [
    "import scipy.stats as stats\n",
    "stats.f_oneway(df[(df['教學方式'] == '抄寫') & (df['性別'] == '男')]['學習成效'],df[(df['教學方式'] == '閱讀') & (df['性別'] == '男')]['學習成效'],df[(df['教學方式'] == '書空') & (df['性別'] == '男')]['學習成效'])"
   ]
  },
  {
   "cell_type": "markdown",
   "metadata": {},
   "source": [
    "當限定於性別因子=\"女\"水準時"
   ]
  },
  {
   "cell_type": "code",
   "execution_count": 19,
   "metadata": {},
   "outputs": [
    {
     "data": {
      "text/plain": [
       "F_onewayResult(statistic=13.1322672833177, pvalue=0.0002279386556562731)"
      ]
     },
     "execution_count": 19,
     "metadata": {},
     "output_type": "execute_result"
    }
   ],
   "source": [
    "import scipy.stats as stats\n",
    "stats.f_oneway(df[(df['教學方式'] == '抄寫') & (df['性別'] == '女')]['學習成效'],df[(df['教學方式'] == '閱讀') & (df['性別'] == '女')]['學習成效'],df[(df['教學方式'] == '書空') & (df['性別'] == '女')]['學習成效'])"
   ]
  },
  {
   "cell_type": "markdown",
   "metadata": {},
   "source": [
    "**<font color = red>由檢定結果我們可以知道，當性別限定於女性的時候，使用不同的教學方式的學習成效是有顯著差異的。這個現象我們也可以在交互作用圖表(下圖)中發現**"
   ]
  },
  {
   "cell_type": "code",
   "execution_count": null,
   "metadata": {},
   "outputs": [
    {
     "data": {
      "image/png": "[encoded data removed]",
      "text/plain": [
       "<Figure size 432x288 with 1 Axes>"
      ]
     },
     "metadata": {},
     "output_type": "display_data"
    }
   ],
   "source": [
    "from statsmodels.graphics.factorplots import interaction_plot\n",
    "import matplotlib.pyplot as plt\n",
    "fig = interaction_plot(x=df['教學方式'], trace=df['性別'], response=df['學習成效'], \n",
    "    colors=['#4c061d','#d17a22'])\n",
    "plt.show()"
   ]
  },
  {
   "cell_type": "markdown",
   "metadata": {},
   "source": [
    "**<font color = red>上圖我們可以看出交互作用的貢獻主要來源於\"性別\"在\"閱讀\"這個教學方式上的差別**"
   ]
  },
  {
   "cell_type": "markdown",
   "metadata": {},
   "source": [
    "**多重成對比較（事後比較）**\n"
   ]
  },
  {
   "cell_type": "code",
   "execution_count": 20,
   "metadata": {},
   "outputs": [],
   "source": [
    "from bioinfokit.analys import stat"
   ]
  },
  {
   "cell_type": "code",
   "execution_count": 21,
   "metadata": {},
   "outputs": [
    {
     "data": {
      "text/html": [
       "<div>\n",
       "<style scoped>\n",
       "    .dataframe tbody tr th:only-of-type {\n",
       "        vertical-align: middle;\n",
       "    }\n",
       "\n",
       "    .dataframe tbody tr th {\n",
       "        vertical-align: top;\n",
       "    }\n",
       "\n",
       "    .dataframe thead th {\n",
       "        text-align: right;\n",
       "    }\n",
       "</style>\n",
       "<table border=\"1\" class=\"dataframe\">\n",
       "  <thead>\n",
       "    <tr style=\"text-align: right;\">\n",
       "      <th></th>\n",
       "      <th>group1</th>\n",
       "      <th>group2</th>\n",
       "      <th>Diff</th>\n",
       "      <th>Lower</th>\n",
       "      <th>Upper</th>\n",
       "      <th>q-value</th>\n",
       "      <th>p-value</th>\n",
       "    </tr>\n",
       "  </thead>\n",
       "  <tbody>\n",
       "    <tr>\n",
       "      <th>0</th>\n",
       "      <td>書空</td>\n",
       "      <td>抄寫</td>\n",
       "      <td>1.933333</td>\n",
       "      <td>-0.447764</td>\n",
       "      <td>4.314431</td>\n",
       "      <td>2.797348</td>\n",
       "      <td>0.131077</td>\n",
       "    </tr>\n",
       "    <tr>\n",
       "      <th>1</th>\n",
       "      <td>書空</td>\n",
       "      <td>閱讀</td>\n",
       "      <td>4.866667</td>\n",
       "      <td>2.485569</td>\n",
       "      <td>7.247764</td>\n",
       "      <td>7.041600</td>\n",
       "      <td>0.001000</td>\n",
       "    </tr>\n",
       "    <tr>\n",
       "      <th>2</th>\n",
       "      <td>抄寫</td>\n",
       "      <td>閱讀</td>\n",
       "      <td>2.933333</td>\n",
       "      <td>0.552236</td>\n",
       "      <td>5.314431</td>\n",
       "      <td>4.244252</td>\n",
       "      <td>0.012682</td>\n",
       "    </tr>\n",
       "  </tbody>\n",
       "</table>\n",
       "</div>"
      ],
      "text/plain": [
       "  group1 group2      Diff     Lower     Upper   q-value   p-value\n",
       "0     書空     抄寫  1.933333 -0.447764  4.314431  2.797348  0.131077\n",
       "1     書空     閱讀  4.866667  2.485569  7.247764  7.041600  0.001000\n",
       "2     抄寫     閱讀  2.933333  0.552236  5.314431  4.244252  0.012682"
      ]
     },
     "execution_count": 21,
     "metadata": {},
     "output_type": "execute_result"
    }
   ],
   "source": [
    "res = stat()\n",
    "res.tukey_hsd(df=df, res_var='學習成效', xfac_var='教學方式', anova_model='學習成效~C(教學方式)+C(性別)+C(教學方式):C(性別)',)\n",
    "res.tukey_summary"
   ]
  },
  {
   "cell_type": "code",
   "execution_count": 22,
   "metadata": {},
   "outputs": [
    {
     "data": {
      "text/html": [
       "<div>\n",
       "<style scoped>\n",
       "    .dataframe tbody tr th:only-of-type {\n",
       "        vertical-align: middle;\n",
       "    }\n",
       "\n",
       "    .dataframe tbody tr th {\n",
       "        vertical-align: top;\n",
       "    }\n",
       "\n",
       "    .dataframe thead th {\n",
       "        text-align: right;\n",
       "    }\n",
       "</style>\n",
       "<table border=\"1\" class=\"dataframe\">\n",
       "  <thead>\n",
       "    <tr style=\"text-align: right;\">\n",
       "      <th></th>\n",
       "      <th>group1</th>\n",
       "      <th>group2</th>\n",
       "      <th>Diff</th>\n",
       "      <th>Lower</th>\n",
       "      <th>Upper</th>\n",
       "      <th>q-value</th>\n",
       "      <th>p-value</th>\n",
       "    </tr>\n",
       "  </thead>\n",
       "  <tbody>\n",
       "    <tr>\n",
       "      <th>0</th>\n",
       "      <td>男</td>\n",
       "      <td>女</td>\n",
       "      <td>1.144269</td>\n",
       "      <td>-0.470337</td>\n",
       "      <td>2.758874</td>\n",
       "      <td>2.027245</td>\n",
       "      <td>0.159688</td>\n",
       "    </tr>\n",
       "  </tbody>\n",
       "</table>\n",
       "</div>"
      ],
      "text/plain": [
       "  group1 group2      Diff     Lower     Upper   q-value   p-value\n",
       "0      男      女  1.144269 -0.470337  2.758874  2.027245  0.159688"
      ]
     },
     "execution_count": 22,
     "metadata": {},
     "output_type": "execute_result"
    }
   ],
   "source": [
    "res = stat()\n",
    "res.tukey_hsd(df=df, res_var='學習成效', xfac_var='性別', anova_model='學習成效~C(教學方式)+C(性別)+C(教學方式):C(性別)')\n",
    "res.tukey_summary"
   ]
  },
  {
   "cell_type": "code",
   "execution_count": 23,
   "metadata": {},
   "outputs": [
    {
     "data": {
      "text/html": [
       "<div>\n",
       "<style scoped>\n",
       "    .dataframe tbody tr th:only-of-type {\n",
       "        vertical-align: middle;\n",
       "    }\n",
       "\n",
       "    .dataframe tbody tr th {\n",
       "        vertical-align: top;\n",
       "    }\n",
       "\n",
       "    .dataframe thead th {\n",
       "        text-align: right;\n",
       "    }\n",
       "</style>\n",
       "<table border=\"1\" class=\"dataframe\">\n",
       "  <thead>\n",
       "    <tr style=\"text-align: right;\">\n",
       "      <th></th>\n",
       "      <th>group1</th>\n",
       "      <th>group2</th>\n",
       "      <th>Diff</th>\n",
       "      <th>Lower</th>\n",
       "      <th>Upper</th>\n",
       "      <th>q-value</th>\n",
       "      <th>p-value</th>\n",
       "    </tr>\n",
       "  </thead>\n",
       "  <tbody>\n",
       "    <tr>\n",
       "      <th>0</th>\n",
       "      <td>(書空, 男)</td>\n",
       "      <td>(書空, 女)</td>\n",
       "      <td>0.833333</td>\n",
       "      <td>-3.393391</td>\n",
       "      <td>5.060058</td>\n",
       "      <td>0.835370</td>\n",
       "      <td>0.900000</td>\n",
       "    </tr>\n",
       "    <tr>\n",
       "      <th>1</th>\n",
       "      <td>(書空, 男)</td>\n",
       "      <td>(抄寫, 男)</td>\n",
       "      <td>2.291667</td>\n",
       "      <td>-1.605181</td>\n",
       "      <td>6.188514</td>\n",
       "      <td>2.491738</td>\n",
       "      <td>0.500611</td>\n",
       "    </tr>\n",
       "    <tr>\n",
       "      <th>2</th>\n",
       "      <td>(書空, 男)</td>\n",
       "      <td>(抄寫, 女)</td>\n",
       "      <td>0.809524</td>\n",
       "      <td>-3.231998</td>\n",
       "      <td>4.851046</td>\n",
       "      <td>0.848690</td>\n",
       "      <td>0.900000</td>\n",
       "    </tr>\n",
       "    <tr>\n",
       "      <th>3</th>\n",
       "      <td>(書空, 男)</td>\n",
       "      <td>(閱讀, 男)</td>\n",
       "      <td>2.266667</td>\n",
       "      <td>-2.206478</td>\n",
       "      <td>6.739812</td>\n",
       "      <td>2.147034</td>\n",
       "      <td>0.636236</td>\n",
       "    </tr>\n",
       "    <tr>\n",
       "      <th>4</th>\n",
       "      <td>(書空, 男)</td>\n",
       "      <td>(閱讀, 女)</td>\n",
       "      <td>5.666667</td>\n",
       "      <td>1.981894</td>\n",
       "      <td>9.351440</td>\n",
       "      <td>6.516002</td>\n",
       "      <td>0.001000</td>\n",
       "    </tr>\n",
       "    <tr>\n",
       "      <th>5</th>\n",
       "      <td>(書空, 女)</td>\n",
       "      <td>(抄寫, 男)</td>\n",
       "      <td>3.125000</td>\n",
       "      <td>-1.206104</td>\n",
       "      <td>7.456104</td>\n",
       "      <td>3.057143</td>\n",
       "      <td>0.278591</td>\n",
       "    </tr>\n",
       "    <tr>\n",
       "      <th>6</th>\n",
       "      <td>(書空, 女)</td>\n",
       "      <td>(抄寫, 女)</td>\n",
       "      <td>1.642857</td>\n",
       "      <td>-2.818862</td>\n",
       "      <td>6.104576</td>\n",
       "      <td>1.560134</td>\n",
       "      <td>0.867154</td>\n",
       "    </tr>\n",
       "    <tr>\n",
       "      <th>7</th>\n",
       "      <td>(書空, 女)</td>\n",
       "      <td>(閱讀, 男)</td>\n",
       "      <td>3.100000</td>\n",
       "      <td>-1.756137</td>\n",
       "      <td>7.956137</td>\n",
       "      <td>2.704800</td>\n",
       "      <td>0.411876</td>\n",
       "    </tr>\n",
       "    <tr>\n",
       "      <th>8</th>\n",
       "      <td>(書空, 女)</td>\n",
       "      <td>(閱讀, 女)</td>\n",
       "      <td>6.500000</td>\n",
       "      <td>2.358673</td>\n",
       "      <td>10.641327</td>\n",
       "      <td>6.650252</td>\n",
       "      <td>0.001000</td>\n",
       "    </tr>\n",
       "    <tr>\n",
       "      <th>9</th>\n",
       "      <td>(抄寫, 男)</td>\n",
       "      <td>(抄寫, 女)</td>\n",
       "      <td>1.482143</td>\n",
       "      <td>-2.668418</td>\n",
       "      <td>5.632704</td>\n",
       "      <td>1.513030</td>\n",
       "      <td>0.885686</td>\n",
       "    </tr>\n",
       "    <tr>\n",
       "      <th>10</th>\n",
       "      <td>(抄寫, 男)</td>\n",
       "      <td>(閱讀, 男)</td>\n",
       "      <td>0.025000</td>\n",
       "      <td>-4.546902</td>\n",
       "      <td>4.596902</td>\n",
       "      <td>0.023169</td>\n",
       "      <td>0.900000</td>\n",
       "    </tr>\n",
       "    <tr>\n",
       "      <th>11</th>\n",
       "      <td>(抄寫, 男)</td>\n",
       "      <td>(閱讀, 女)</td>\n",
       "      <td>3.375000</td>\n",
       "      <td>-0.429052</td>\n",
       "      <td>7.179052</td>\n",
       "      <td>3.759167</td>\n",
       "      <td>0.107516</td>\n",
       "    </tr>\n",
       "    <tr>\n",
       "      <th>12</th>\n",
       "      <td>(抄寫, 女)</td>\n",
       "      <td>(閱讀, 男)</td>\n",
       "      <td>1.457143</td>\n",
       "      <td>-3.238681</td>\n",
       "      <td>6.152967</td>\n",
       "      <td>1.314785</td>\n",
       "      <td>0.900000</td>\n",
       "    </tr>\n",
       "    <tr>\n",
       "      <th>13</th>\n",
       "      <td>(抄寫, 女)</td>\n",
       "      <td>(閱讀, 女)</td>\n",
       "      <td>4.857143</td>\n",
       "      <td>0.905018</td>\n",
       "      <td>8.809268</td>\n",
       "      <td>5.207323</td>\n",
       "      <td>0.008513</td>\n",
       "    </tr>\n",
       "    <tr>\n",
       "      <th>14</th>\n",
       "      <td>(閱讀, 男)</td>\n",
       "      <td>(閱讀, 女)</td>\n",
       "      <td>3.400000</td>\n",
       "      <td>-0.992541</td>\n",
       "      <td>7.792541</td>\n",
       "      <td>3.279649</td>\n",
       "      <td>0.211068</td>\n",
       "    </tr>\n",
       "  </tbody>\n",
       "</table>\n",
       "</div>"
      ],
      "text/plain": [
       "     group1   group2      Diff     Lower      Upper   q-value   p-value\n",
       "0   (書空, 男)  (書空, 女)  0.833333 -3.393391   5.060058  0.835370  0.900000\n",
       "1   (書空, 男)  (抄寫, 男)  2.291667 -1.605181   6.188514  2.491738  0.500611\n",
       "2   (書空, 男)  (抄寫, 女)  0.809524 -3.231998   4.851046  0.848690  0.900000\n",
       "3   (書空, 男)  (閱讀, 男)  2.266667 -2.206478   6.739812  2.147034  0.636236\n",
       "4   (書空, 男)  (閱讀, 女)  5.666667  1.981894   9.351440  6.516002  0.001000\n",
       "5   (書空, 女)  (抄寫, 男)  3.125000 -1.206104   7.456104  3.057143  0.278591\n",
       "6   (書空, 女)  (抄寫, 女)  1.642857 -2.818862   6.104576  1.560134  0.867154\n",
       "7   (書空, 女)  (閱讀, 男)  3.100000 -1.756137   7.956137  2.704800  0.411876\n",
       "8   (書空, 女)  (閱讀, 女)  6.500000  2.358673  10.641327  6.650252  0.001000\n",
       "9   (抄寫, 男)  (抄寫, 女)  1.482143 -2.668418   5.632704  1.513030  0.885686\n",
       "10  (抄寫, 男)  (閱讀, 男)  0.025000 -4.546902   4.596902  0.023169  0.900000\n",
       "11  (抄寫, 男)  (閱讀, 女)  3.375000 -0.429052   7.179052  3.759167  0.107516\n",
       "12  (抄寫, 女)  (閱讀, 男)  1.457143 -3.238681   6.152967  1.314785  0.900000\n",
       "13  (抄寫, 女)  (閱讀, 女)  4.857143  0.905018   8.809268  5.207323  0.008513\n",
       "14  (閱讀, 男)  (閱讀, 女)  3.400000 -0.992541   7.792541  3.279649  0.211068"
      ]
     },
     "execution_count": 23,
     "metadata": {},
     "output_type": "execute_result"
    }
   ],
   "source": [
    "res = stat()\n",
    "res.tukey_hsd(df=df, res_var='學習成效', xfac_var=['教學方式','性別'], anova_model='學習成效~C(教學方式)+C(性別)+C(教學方式):C(性別)')\n",
    "res.tukey_summary"
   ]
  },
  {
   "cell_type": "markdown",
   "metadata": {},
   "source": [
    "b. 以文字說明上述每項結果，並回答研究問題與假設。  \n",
    "- 我們在雙因子變異數分析的結果可以發現，學習成果主要受到教學($p$ = 0.0001<0.05)和教學方式與性別的交互作用($p$ = 0.04<0.05)所影響。\n",
    "- 對於教學方式的影響方面我們從主要效果比較的結果中可以發現，書空與抄寫(識字教學組)的學習成效平均數高於閱讀(大量閱讀組)，並在多重成對比較(事後比較)的結果中，我們得出\"書空組與閱讀組\"、\"抄寫組與閱讀組\"皆在學習成效上存在顯著差異($p$ = 0.001、0.012)，\"書空組與抄寫組\"則差異不顯著($p$ = 0.131)。<font color = red>但由於存在顯著的交互作用，我們進一步觀察交互作用才能給出最後的定論。</font>  \n",
    "\n",
    "- 對於教學方式與性別的交互作用對學習成效的影響方面，我們從單純主要效果的假設檢驗中發現，當性別限定於女性時，使用不同的教學方式對於學習成效的影響是有顯著差距的，並在多重成對比較的結果中，我們得出\"(書空，女)、(閱讀，女)\"、\"(抄寫，女)、(閱讀，女)\"皆在學習成效上有顯著差異($p$ = 0.001、0.008)，\"男性則不顯著\"，\n",
    "並且從Diff皆為正(6.5、4.85)((書空，女)、(抄寫，女)在學習成效平均數上皆高於(閱讀，女))，因此在教學方式與性別的交互作用的影響上我們通過分析得出，對於女性來說，使用\"識字教學\"教學方式的學習成效顯住高於使用\"大量閱讀\"教學方式，男性則沒有顯著差異。\n",
    "\n",
    "- 對於研究問題的回答: 對於女性學生，使用不同的教學方式會顯著影響學習成效(\"識字教學\"優於\"大量閱讀\")，對於男性學生，不同的教學方式對學習成效沒有顯著影響。"
   ]
  }
 ],
 "metadata": {
  "kernelspec": {
   "display_name": "Python 3.10.2 64-bit",
   "language": "python",
   "name": "python3"
  },
  "language_info": {
   "codemirror_mode": {
    "name": "ipython",
    "version": 3
   },
   "file_extension": ".py",
   "mimetype": "text/x-python",
   "name": "python",
   "nbconvert_exporter": "python",
   "pygments_lexer": "ipython3",
   "version": "3.10.2"
  },
  "orig_nbformat": 4,
  "vscode": {
   "interpreter": {
    "hash": "1b43cb0bd93d5abbadd54afed8252f711d4681fe6223ad6b67ffaee289648f85"
   }
  }
 },
 "nbformat": 4,
 "nbformat_minor": 2
}
